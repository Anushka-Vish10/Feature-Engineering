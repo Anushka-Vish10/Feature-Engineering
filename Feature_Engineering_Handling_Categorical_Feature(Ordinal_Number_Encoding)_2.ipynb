{
  "nbformat": 4,
  "nbformat_minor": 0,
  "metadata": {
    "kernelspec": {
      "display_name": "Python 3",
      "language": "python",
      "name": "python3"
    },
    "language_info": {
      "codemirror_mode": {
        "name": "ipython",
        "version": 3
      },
      "file_extension": ".py",
      "mimetype": "text/x-python",
      "name": "python",
      "nbconvert_exporter": "python",
      "pygments_lexer": "ipython3",
      "version": "3.7.3"
    },
    "colab": {
      "name": "Feature Engineering- Handling Categorical Feature(Ordinal Number Encoding)-2.ipynb",
      "provenance": []
    }
  },
  "cells": [
    {
      "cell_type": "markdown",
      "metadata": {
        "id": "HeOScunM719N"
      },
      "source": [
        "### Ordinal Number Encoding"
      ]
    },
    {
      "cell_type": "code",
      "metadata": {
        "id": "DOG1-ctU719Z"
      },
      "source": [
        "import datetime"
      ],
      "execution_count": null,
      "outputs": []
    },
    {
      "cell_type": "code",
      "metadata": {
        "id": "6C3sHn1P719a"
      },
      "source": [
        "today_date=datetime.datetime.today()"
      ],
      "execution_count": null,
      "outputs": []
    },
    {
      "cell_type": "code",
      "metadata": {
        "colab": {
          "base_uri": "https://localhost:8080/"
        },
        "id": "6YN1bEsC719b",
        "outputId": "70927d9e-3c5d-49a3-f8ef-84dae384e82e"
      },
      "source": [
        "today_date"
      ],
      "execution_count": null,
      "outputs": [
        {
          "output_type": "execute_result",
          "data": {
            "text/plain": [
              "datetime.datetime(2021, 11, 6, 12, 38, 9, 727592)"
            ]
          },
          "metadata": {},
          "execution_count": 3
        }
      ]
    },
    {
      "cell_type": "code",
      "metadata": {
        "colab": {
          "base_uri": "https://localhost:8080/"
        },
        "id": "fiKkaYJn719c",
        "outputId": "2561a264-bdfa-457b-9694-1570c29b2d6f"
      },
      "source": [
        "# Gives the difference of 3 days from today's date and likewise\n",
        "today_date-datetime.timedelta(3)"
      ],
      "execution_count": null,
      "outputs": [
        {
          "output_type": "execute_result",
          "data": {
            "text/plain": [
              "datetime.datetime(2021, 11, 3, 12, 38, 9, 727592)"
            ]
          },
          "metadata": {},
          "execution_count": 4
        }
      ]
    },
    {
      "cell_type": "code",
      "metadata": {
        "id": "Tbr-9SJs719d"
      },
      "source": [
        "#### List Comprehension for creating last 15 days\n",
        "days=[today_date-datetime.timedelta(x) for x in range(0,15)]"
      ],
      "execution_count": null,
      "outputs": []
    },
    {
      "cell_type": "code",
      "metadata": {
        "id": "Ldd0fjfH719d"
      },
      "source": [
        "import pandas as pd\n",
        "data=pd.DataFrame(days)\n",
        "data.columns=[\"Day\"]\n",
        "\n",
        "# creating dataframe of having date and time"
      ],
      "execution_count": null,
      "outputs": []
    },
    {
      "cell_type": "code",
      "metadata": {
        "colab": {
          "base_uri": "https://localhost:8080/",
          "height": 204
        },
        "id": "HSAAA4mu719e",
        "outputId": "f217b84d-39ae-4990-c652-4e618f0ad946"
      },
      "source": [
        "data.head()"
      ],
      "execution_count": null,
      "outputs": [
        {
          "output_type": "execute_result",
          "data": {
            "text/html": [
              "<div>\n",
              "<style scoped>\n",
              "    .dataframe tbody tr th:only-of-type {\n",
              "        vertical-align: middle;\n",
              "    }\n",
              "\n",
              "    .dataframe tbody tr th {\n",
              "        vertical-align: top;\n",
              "    }\n",
              "\n",
              "    .dataframe thead th {\n",
              "        text-align: right;\n",
              "    }\n",
              "</style>\n",
              "<table border=\"1\" class=\"dataframe\">\n",
              "  <thead>\n",
              "    <tr style=\"text-align: right;\">\n",
              "      <th></th>\n",
              "      <th>Day</th>\n",
              "    </tr>\n",
              "  </thead>\n",
              "  <tbody>\n",
              "    <tr>\n",
              "      <th>0</th>\n",
              "      <td>2021-11-06 12:38:09.727592</td>\n",
              "    </tr>\n",
              "    <tr>\n",
              "      <th>1</th>\n",
              "      <td>2021-11-05 12:38:09.727592</td>\n",
              "    </tr>\n",
              "    <tr>\n",
              "      <th>2</th>\n",
              "      <td>2021-11-04 12:38:09.727592</td>\n",
              "    </tr>\n",
              "    <tr>\n",
              "      <th>3</th>\n",
              "      <td>2021-11-03 12:38:09.727592</td>\n",
              "    </tr>\n",
              "    <tr>\n",
              "      <th>4</th>\n",
              "      <td>2021-11-02 12:38:09.727592</td>\n",
              "    </tr>\n",
              "  </tbody>\n",
              "</table>\n",
              "</div>"
            ],
            "text/plain": [
              "                         Day\n",
              "0 2021-11-06 12:38:09.727592\n",
              "1 2021-11-05 12:38:09.727592\n",
              "2 2021-11-04 12:38:09.727592\n",
              "3 2021-11-03 12:38:09.727592\n",
              "4 2021-11-02 12:38:09.727592"
            ]
          },
          "metadata": {},
          "execution_count": 7
        }
      ]
    },
    {
      "cell_type": "code",
      "metadata": {
        "colab": {
          "base_uri": "https://localhost:8080/",
          "height": 204
        },
        "id": "lZZzR6WM719e",
        "outputId": "3e7e7ee7-5e59-44bf-ea64-96d6fc0844f6"
      },
      "source": [
        "data['weekday']=data['Day'].dt.day_name()\n",
        "data.head()"
      ],
      "execution_count": null,
      "outputs": [
        {
          "output_type": "execute_result",
          "data": {
            "text/html": [
              "<div>\n",
              "<style scoped>\n",
              "    .dataframe tbody tr th:only-of-type {\n",
              "        vertical-align: middle;\n",
              "    }\n",
              "\n",
              "    .dataframe tbody tr th {\n",
              "        vertical-align: top;\n",
              "    }\n",
              "\n",
              "    .dataframe thead th {\n",
              "        text-align: right;\n",
              "    }\n",
              "</style>\n",
              "<table border=\"1\" class=\"dataframe\">\n",
              "  <thead>\n",
              "    <tr style=\"text-align: right;\">\n",
              "      <th></th>\n",
              "      <th>Day</th>\n",
              "      <th>weekday</th>\n",
              "    </tr>\n",
              "  </thead>\n",
              "  <tbody>\n",
              "    <tr>\n",
              "      <th>0</th>\n",
              "      <td>2021-11-06 12:38:09.727592</td>\n",
              "      <td>Saturday</td>\n",
              "    </tr>\n",
              "    <tr>\n",
              "      <th>1</th>\n",
              "      <td>2021-11-05 12:38:09.727592</td>\n",
              "      <td>Friday</td>\n",
              "    </tr>\n",
              "    <tr>\n",
              "      <th>2</th>\n",
              "      <td>2021-11-04 12:38:09.727592</td>\n",
              "      <td>Thursday</td>\n",
              "    </tr>\n",
              "    <tr>\n",
              "      <th>3</th>\n",
              "      <td>2021-11-03 12:38:09.727592</td>\n",
              "      <td>Wednesday</td>\n",
              "    </tr>\n",
              "    <tr>\n",
              "      <th>4</th>\n",
              "      <td>2021-11-02 12:38:09.727592</td>\n",
              "      <td>Tuesday</td>\n",
              "    </tr>\n",
              "  </tbody>\n",
              "</table>\n",
              "</div>"
            ],
            "text/plain": [
              "                         Day    weekday\n",
              "0 2021-11-06 12:38:09.727592   Saturday\n",
              "1 2021-11-05 12:38:09.727592     Friday\n",
              "2 2021-11-04 12:38:09.727592   Thursday\n",
              "3 2021-11-03 12:38:09.727592  Wednesday\n",
              "4 2021-11-02 12:38:09.727592    Tuesday"
            ]
          },
          "metadata": {},
          "execution_count": 8
        }
      ]
    },
    {
      "cell_type": "code",
      "metadata": {
        "id": "D-2jmEIz719f"
      },
      "source": [
        "# making dictionary and ,mapping it the actual day\n",
        "dictionary={'Monday':1,'Tuesday':2,'Wednesday':3,'Thursday':4,'Friday':5,'Saturday':6,'Sunday':7}"
      ],
      "execution_count": null,
      "outputs": []
    },
    {
      "cell_type": "code",
      "metadata": {
        "id": "yeYESj_x719f",
        "colab": {
          "base_uri": "https://localhost:8080/"
        },
        "outputId": "6c42cf0a-eb99-4ddf-a02b-9c43711e96f6"
      },
      "source": [
        "dictionary"
      ],
      "execution_count": null,
      "outputs": [
        {
          "output_type": "execute_result",
          "data": {
            "text/plain": [
              "{'Friday': 5,\n",
              " 'Monday': 1,\n",
              " 'Saturday': 6,\n",
              " 'Sunday': 7,\n",
              " 'Thursday': 4,\n",
              " 'Tuesday': 2,\n",
              " 'Wednesday': 3}"
            ]
          },
          "metadata": {},
          "execution_count": 11
        }
      ]
    },
    {
      "cell_type": "code",
      "metadata": {
        "id": "eKq0GbGJ719g"
      },
      "source": [
        "data['weekday_ordinal']=data['weekday'].map(dictionary)"
      ],
      "execution_count": null,
      "outputs": []
    },
    {
      "cell_type": "code",
      "metadata": {
        "id": "R5Ud1_Yw719g",
        "colab": {
          "base_uri": "https://localhost:8080/",
          "height": 514
        },
        "outputId": "a97b7bd9-e902-494b-ab00-57dc084f7027"
      },
      "source": [
        "data"
      ],
      "execution_count": null,
      "outputs": [
        {
          "output_type": "execute_result",
          "data": {
            "text/html": [
              "<div>\n",
              "<style scoped>\n",
              "    .dataframe tbody tr th:only-of-type {\n",
              "        vertical-align: middle;\n",
              "    }\n",
              "\n",
              "    .dataframe tbody tr th {\n",
              "        vertical-align: top;\n",
              "    }\n",
              "\n",
              "    .dataframe thead th {\n",
              "        text-align: right;\n",
              "    }\n",
              "</style>\n",
              "<table border=\"1\" class=\"dataframe\">\n",
              "  <thead>\n",
              "    <tr style=\"text-align: right;\">\n",
              "      <th></th>\n",
              "      <th>Day</th>\n",
              "      <th>weekday</th>\n",
              "      <th>weekday_ordinal</th>\n",
              "    </tr>\n",
              "  </thead>\n",
              "  <tbody>\n",
              "    <tr>\n",
              "      <th>0</th>\n",
              "      <td>2021-11-06 12:38:09.727592</td>\n",
              "      <td>Saturday</td>\n",
              "      <td>6</td>\n",
              "    </tr>\n",
              "    <tr>\n",
              "      <th>1</th>\n",
              "      <td>2021-11-05 12:38:09.727592</td>\n",
              "      <td>Friday</td>\n",
              "      <td>5</td>\n",
              "    </tr>\n",
              "    <tr>\n",
              "      <th>2</th>\n",
              "      <td>2021-11-04 12:38:09.727592</td>\n",
              "      <td>Thursday</td>\n",
              "      <td>4</td>\n",
              "    </tr>\n",
              "    <tr>\n",
              "      <th>3</th>\n",
              "      <td>2021-11-03 12:38:09.727592</td>\n",
              "      <td>Wednesday</td>\n",
              "      <td>3</td>\n",
              "    </tr>\n",
              "    <tr>\n",
              "      <th>4</th>\n",
              "      <td>2021-11-02 12:38:09.727592</td>\n",
              "      <td>Tuesday</td>\n",
              "      <td>2</td>\n",
              "    </tr>\n",
              "    <tr>\n",
              "      <th>5</th>\n",
              "      <td>2021-11-01 12:38:09.727592</td>\n",
              "      <td>Monday</td>\n",
              "      <td>1</td>\n",
              "    </tr>\n",
              "    <tr>\n",
              "      <th>6</th>\n",
              "      <td>2021-10-31 12:38:09.727592</td>\n",
              "      <td>Sunday</td>\n",
              "      <td>7</td>\n",
              "    </tr>\n",
              "    <tr>\n",
              "      <th>7</th>\n",
              "      <td>2021-10-30 12:38:09.727592</td>\n",
              "      <td>Saturday</td>\n",
              "      <td>6</td>\n",
              "    </tr>\n",
              "    <tr>\n",
              "      <th>8</th>\n",
              "      <td>2021-10-29 12:38:09.727592</td>\n",
              "      <td>Friday</td>\n",
              "      <td>5</td>\n",
              "    </tr>\n",
              "    <tr>\n",
              "      <th>9</th>\n",
              "      <td>2021-10-28 12:38:09.727592</td>\n",
              "      <td>Thursday</td>\n",
              "      <td>4</td>\n",
              "    </tr>\n",
              "    <tr>\n",
              "      <th>10</th>\n",
              "      <td>2021-10-27 12:38:09.727592</td>\n",
              "      <td>Wednesday</td>\n",
              "      <td>3</td>\n",
              "    </tr>\n",
              "    <tr>\n",
              "      <th>11</th>\n",
              "      <td>2021-10-26 12:38:09.727592</td>\n",
              "      <td>Tuesday</td>\n",
              "      <td>2</td>\n",
              "    </tr>\n",
              "    <tr>\n",
              "      <th>12</th>\n",
              "      <td>2021-10-25 12:38:09.727592</td>\n",
              "      <td>Monday</td>\n",
              "      <td>1</td>\n",
              "    </tr>\n",
              "    <tr>\n",
              "      <th>13</th>\n",
              "      <td>2021-10-24 12:38:09.727592</td>\n",
              "      <td>Sunday</td>\n",
              "      <td>7</td>\n",
              "    </tr>\n",
              "    <tr>\n",
              "      <th>14</th>\n",
              "      <td>2021-10-23 12:38:09.727592</td>\n",
              "      <td>Saturday</td>\n",
              "      <td>6</td>\n",
              "    </tr>\n",
              "  </tbody>\n",
              "</table>\n",
              "</div>"
            ],
            "text/plain": [
              "                          Day    weekday  weekday_ordinal\n",
              "0  2021-11-06 12:38:09.727592   Saturday                6\n",
              "1  2021-11-05 12:38:09.727592     Friday                5\n",
              "2  2021-11-04 12:38:09.727592   Thursday                4\n",
              "3  2021-11-03 12:38:09.727592  Wednesday                3\n",
              "4  2021-11-02 12:38:09.727592    Tuesday                2\n",
              "5  2021-11-01 12:38:09.727592     Monday                1\n",
              "6  2021-10-31 12:38:09.727592     Sunday                7\n",
              "7  2021-10-30 12:38:09.727592   Saturday                6\n",
              "8  2021-10-29 12:38:09.727592     Friday                5\n",
              "9  2021-10-28 12:38:09.727592   Thursday                4\n",
              "10 2021-10-27 12:38:09.727592  Wednesday                3\n",
              "11 2021-10-26 12:38:09.727592    Tuesday                2\n",
              "12 2021-10-25 12:38:09.727592     Monday                1\n",
              "13 2021-10-24 12:38:09.727592     Sunday                7\n",
              "14 2021-10-23 12:38:09.727592   Saturday                6"
            ]
          },
          "metadata": {},
          "execution_count": 13
        }
      ]
    },
    {
      "cell_type": "markdown",
      "metadata": {
        "id": "uZ7HWoy2719h"
      },
      "source": [
        "#### Count Or Frequency Encoding"
      ]
    },
    {
      "cell_type": "code",
      "metadata": {
        "id": "2jp3-ip2719h",
        "colab": {
          "base_uri": "https://localhost:8080/",
          "height": 204
        },
        "outputId": "d5c35dbb-fbb3-49fa-ac21-24ecb32d7fec"
      },
      "source": [
        "train_set = pd.read_csv('http://archive.ics.uci.edu/ml/machine-learning-databases/adult/adult.data' , header = None,index_col=None)\n",
        "train_set.head()                                                         "
      ],
      "execution_count": null,
      "outputs": [
        {
          "output_type": "execute_result",
          "data": {
            "text/html": [
              "<div>\n",
              "<style scoped>\n",
              "    .dataframe tbody tr th:only-of-type {\n",
              "        vertical-align: middle;\n",
              "    }\n",
              "\n",
              "    .dataframe tbody tr th {\n",
              "        vertical-align: top;\n",
              "    }\n",
              "\n",
              "    .dataframe thead th {\n",
              "        text-align: right;\n",
              "    }\n",
              "</style>\n",
              "<table border=\"1\" class=\"dataframe\">\n",
              "  <thead>\n",
              "    <tr style=\"text-align: right;\">\n",
              "      <th></th>\n",
              "      <th>0</th>\n",
              "      <th>1</th>\n",
              "      <th>2</th>\n",
              "      <th>3</th>\n",
              "      <th>4</th>\n",
              "      <th>5</th>\n",
              "      <th>6</th>\n",
              "      <th>7</th>\n",
              "      <th>8</th>\n",
              "      <th>9</th>\n",
              "      <th>10</th>\n",
              "      <th>11</th>\n",
              "      <th>12</th>\n",
              "      <th>13</th>\n",
              "      <th>14</th>\n",
              "    </tr>\n",
              "  </thead>\n",
              "  <tbody>\n",
              "    <tr>\n",
              "      <th>0</th>\n",
              "      <td>39</td>\n",
              "      <td>State-gov</td>\n",
              "      <td>77516</td>\n",
              "      <td>Bachelors</td>\n",
              "      <td>13</td>\n",
              "      <td>Never-married</td>\n",
              "      <td>Adm-clerical</td>\n",
              "      <td>Not-in-family</td>\n",
              "      <td>White</td>\n",
              "      <td>Male</td>\n",
              "      <td>2174</td>\n",
              "      <td>0</td>\n",
              "      <td>40</td>\n",
              "      <td>United-States</td>\n",
              "      <td>&lt;=50K</td>\n",
              "    </tr>\n",
              "    <tr>\n",
              "      <th>1</th>\n",
              "      <td>50</td>\n",
              "      <td>Self-emp-not-inc</td>\n",
              "      <td>83311</td>\n",
              "      <td>Bachelors</td>\n",
              "      <td>13</td>\n",
              "      <td>Married-civ-spouse</td>\n",
              "      <td>Exec-managerial</td>\n",
              "      <td>Husband</td>\n",
              "      <td>White</td>\n",
              "      <td>Male</td>\n",
              "      <td>0</td>\n",
              "      <td>0</td>\n",
              "      <td>13</td>\n",
              "      <td>United-States</td>\n",
              "      <td>&lt;=50K</td>\n",
              "    </tr>\n",
              "    <tr>\n",
              "      <th>2</th>\n",
              "      <td>38</td>\n",
              "      <td>Private</td>\n",
              "      <td>215646</td>\n",
              "      <td>HS-grad</td>\n",
              "      <td>9</td>\n",
              "      <td>Divorced</td>\n",
              "      <td>Handlers-cleaners</td>\n",
              "      <td>Not-in-family</td>\n",
              "      <td>White</td>\n",
              "      <td>Male</td>\n",
              "      <td>0</td>\n",
              "      <td>0</td>\n",
              "      <td>40</td>\n",
              "      <td>United-States</td>\n",
              "      <td>&lt;=50K</td>\n",
              "    </tr>\n",
              "    <tr>\n",
              "      <th>3</th>\n",
              "      <td>53</td>\n",
              "      <td>Private</td>\n",
              "      <td>234721</td>\n",
              "      <td>11th</td>\n",
              "      <td>7</td>\n",
              "      <td>Married-civ-spouse</td>\n",
              "      <td>Handlers-cleaners</td>\n",
              "      <td>Husband</td>\n",
              "      <td>Black</td>\n",
              "      <td>Male</td>\n",
              "      <td>0</td>\n",
              "      <td>0</td>\n",
              "      <td>40</td>\n",
              "      <td>United-States</td>\n",
              "      <td>&lt;=50K</td>\n",
              "    </tr>\n",
              "    <tr>\n",
              "      <th>4</th>\n",
              "      <td>28</td>\n",
              "      <td>Private</td>\n",
              "      <td>338409</td>\n",
              "      <td>Bachelors</td>\n",
              "      <td>13</td>\n",
              "      <td>Married-civ-spouse</td>\n",
              "      <td>Prof-specialty</td>\n",
              "      <td>Wife</td>\n",
              "      <td>Black</td>\n",
              "      <td>Female</td>\n",
              "      <td>0</td>\n",
              "      <td>0</td>\n",
              "      <td>40</td>\n",
              "      <td>Cuba</td>\n",
              "      <td>&lt;=50K</td>\n",
              "    </tr>\n",
              "  </tbody>\n",
              "</table>\n",
              "</div>"
            ],
            "text/plain": [
              "   0                  1       2           3   ...  11  12              13      14\n",
              "0  39          State-gov   77516   Bachelors  ...   0  40   United-States   <=50K\n",
              "1  50   Self-emp-not-inc   83311   Bachelors  ...   0  13   United-States   <=50K\n",
              "2  38            Private  215646     HS-grad  ...   0  40   United-States   <=50K\n",
              "3  53            Private  234721        11th  ...   0  40   United-States   <=50K\n",
              "4  28            Private  338409   Bachelors  ...   0  40            Cuba   <=50K\n",
              "\n",
              "[5 rows x 15 columns]"
            ]
          },
          "metadata": {},
          "execution_count": 14
        }
      ]
    },
    {
      "cell_type": "code",
      "metadata": {
        "id": "ZdgrLdvB719i"
      },
      "source": [
        "# taking only the categorical features\n",
        "columns=[1,3,5,6,7,8,9,13]"
      ],
      "execution_count": null,
      "outputs": []
    },
    {
      "cell_type": "code",
      "metadata": {
        "id": "eNMI2Nsz719i"
      },
      "source": [
        "train_set=train_set[columns]"
      ],
      "execution_count": null,
      "outputs": []
    },
    {
      "cell_type": "code",
      "metadata": {
        "id": "aU6ydszL719i"
      },
      "source": [
        "train_set.columns=['Employment','Degree','Status','Designation','family_job','Race','Sex','Country']\n",
        "# creating own column name"
      ],
      "execution_count": null,
      "outputs": []
    },
    {
      "cell_type": "code",
      "metadata": {
        "id": "okUT0Em2719j",
        "colab": {
          "base_uri": "https://localhost:8080/",
          "height": 204
        },
        "outputId": "cc91e153-41df-4d04-c144-27d29e3daceb"
      },
      "source": [
        "train_set.head()"
      ],
      "execution_count": null,
      "outputs": [
        {
          "output_type": "execute_result",
          "data": {
            "text/html": [
              "<div>\n",
              "<style scoped>\n",
              "    .dataframe tbody tr th:only-of-type {\n",
              "        vertical-align: middle;\n",
              "    }\n",
              "\n",
              "    .dataframe tbody tr th {\n",
              "        vertical-align: top;\n",
              "    }\n",
              "\n",
              "    .dataframe thead th {\n",
              "        text-align: right;\n",
              "    }\n",
              "</style>\n",
              "<table border=\"1\" class=\"dataframe\">\n",
              "  <thead>\n",
              "    <tr style=\"text-align: right;\">\n",
              "      <th></th>\n",
              "      <th>Employment</th>\n",
              "      <th>Degree</th>\n",
              "      <th>Status</th>\n",
              "      <th>Designation</th>\n",
              "      <th>family_job</th>\n",
              "      <th>Race</th>\n",
              "      <th>Sex</th>\n",
              "      <th>Country</th>\n",
              "    </tr>\n",
              "  </thead>\n",
              "  <tbody>\n",
              "    <tr>\n",
              "      <th>0</th>\n",
              "      <td>State-gov</td>\n",
              "      <td>Bachelors</td>\n",
              "      <td>Never-married</td>\n",
              "      <td>Adm-clerical</td>\n",
              "      <td>Not-in-family</td>\n",
              "      <td>White</td>\n",
              "      <td>Male</td>\n",
              "      <td>United-States</td>\n",
              "    </tr>\n",
              "    <tr>\n",
              "      <th>1</th>\n",
              "      <td>Self-emp-not-inc</td>\n",
              "      <td>Bachelors</td>\n",
              "      <td>Married-civ-spouse</td>\n",
              "      <td>Exec-managerial</td>\n",
              "      <td>Husband</td>\n",
              "      <td>White</td>\n",
              "      <td>Male</td>\n",
              "      <td>United-States</td>\n",
              "    </tr>\n",
              "    <tr>\n",
              "      <th>2</th>\n",
              "      <td>Private</td>\n",
              "      <td>HS-grad</td>\n",
              "      <td>Divorced</td>\n",
              "      <td>Handlers-cleaners</td>\n",
              "      <td>Not-in-family</td>\n",
              "      <td>White</td>\n",
              "      <td>Male</td>\n",
              "      <td>United-States</td>\n",
              "    </tr>\n",
              "    <tr>\n",
              "      <th>3</th>\n",
              "      <td>Private</td>\n",
              "      <td>11th</td>\n",
              "      <td>Married-civ-spouse</td>\n",
              "      <td>Handlers-cleaners</td>\n",
              "      <td>Husband</td>\n",
              "      <td>Black</td>\n",
              "      <td>Male</td>\n",
              "      <td>United-States</td>\n",
              "    </tr>\n",
              "    <tr>\n",
              "      <th>4</th>\n",
              "      <td>Private</td>\n",
              "      <td>Bachelors</td>\n",
              "      <td>Married-civ-spouse</td>\n",
              "      <td>Prof-specialty</td>\n",
              "      <td>Wife</td>\n",
              "      <td>Black</td>\n",
              "      <td>Female</td>\n",
              "      <td>Cuba</td>\n",
              "    </tr>\n",
              "  </tbody>\n",
              "</table>\n",
              "</div>"
            ],
            "text/plain": [
              "          Employment      Degree  ...      Sex         Country\n",
              "0          State-gov   Bachelors  ...     Male   United-States\n",
              "1   Self-emp-not-inc   Bachelors  ...     Male   United-States\n",
              "2            Private     HS-grad  ...     Male   United-States\n",
              "3            Private        11th  ...     Male   United-States\n",
              "4            Private   Bachelors  ...   Female            Cuba\n",
              "\n",
              "[5 rows x 8 columns]"
            ]
          },
          "metadata": {},
          "execution_count": 18
        }
      ]
    },
    {
      "cell_type": "code",
      "metadata": {
        "id": "e3zoTClv719j",
        "colab": {
          "base_uri": "https://localhost:8080/"
        },
        "outputId": "09040038-e566-45c6-ba84-0c0615c8db68"
      },
      "source": [
        "for feature in train_set.columns[:]:\n",
        "    print(feature,\":\",len(train_set[feature].unique()),'labels')\n",
        "\n",
        "# printing every features names along with there unique categories"
      ],
      "execution_count": null,
      "outputs": [
        {
          "output_type": "stream",
          "name": "stdout",
          "text": [
            "Employment : 9 labels\n",
            "Degree : 16 labels\n",
            "Status : 7 labels\n",
            "Designation : 15 labels\n",
            "family_job : 6 labels\n",
            "Race : 5 labels\n",
            "Sex : 2 labels\n",
            "Country : 42 labels\n"
          ]
        }
      ]
    },
    {
      "cell_type": "code",
      "metadata": {
        "id": "CZxlt3X2k9p0"
      },
      "source": [
        ""
      ],
      "execution_count": null,
      "outputs": []
    },
    {
      "cell_type": "code",
      "metadata": {
        "id": "rhcZJceR719k",
        "colab": {
          "base_uri": "https://localhost:8080/"
        },
        "outputId": "c82a4c5a-9c6f-4f7d-ec46-d5d1d69d51da"
      },
      "source": [
        "country_map=train_set['Country'].value_counts().to_dict()\n",
        "country_map\n",
        "\n",
        "# printing country name and its count"
      ],
      "execution_count": null,
      "outputs": [
        {
          "output_type": "execute_result",
          "data": {
            "text/plain": [
              "{' ?': 583,\n",
              " ' Cambodia': 19,\n",
              " ' Canada': 121,\n",
              " ' China': 75,\n",
              " ' Columbia': 59,\n",
              " ' Cuba': 95,\n",
              " ' Dominican-Republic': 70,\n",
              " ' Ecuador': 28,\n",
              " ' El-Salvador': 106,\n",
              " ' England': 90,\n",
              " ' France': 29,\n",
              " ' Germany': 137,\n",
              " ' Greece': 29,\n",
              " ' Guatemala': 64,\n",
              " ' Haiti': 44,\n",
              " ' Holand-Netherlands': 1,\n",
              " ' Honduras': 13,\n",
              " ' Hong': 20,\n",
              " ' Hungary': 13,\n",
              " ' India': 100,\n",
              " ' Iran': 43,\n",
              " ' Ireland': 24,\n",
              " ' Italy': 73,\n",
              " ' Jamaica': 81,\n",
              " ' Japan': 62,\n",
              " ' Laos': 18,\n",
              " ' Mexico': 643,\n",
              " ' Nicaragua': 34,\n",
              " ' Outlying-US(Guam-USVI-etc)': 14,\n",
              " ' Peru': 31,\n",
              " ' Philippines': 198,\n",
              " ' Poland': 60,\n",
              " ' Portugal': 37,\n",
              " ' Puerto-Rico': 114,\n",
              " ' Scotland': 12,\n",
              " ' South': 80,\n",
              " ' Taiwan': 51,\n",
              " ' Thailand': 18,\n",
              " ' Trinadad&Tobago': 19,\n",
              " ' United-States': 29170,\n",
              " ' Vietnam': 67,\n",
              " ' Yugoslavia': 16}"
            ]
          },
          "metadata": {},
          "execution_count": 22
        }
      ]
    },
    {
      "cell_type": "code",
      "metadata": {
        "id": "jm-xyICV719k",
        "outputId": "cb471a06-0113-426a-8544-0dfce9b5cd48"
      },
      "source": [
        "train_set['Country']=train_set['Country'].map(country_map)\n",
        "train_set.head(20)\n",
        "\n",
        "# here we replace the country name with the number of values or frequency"
      ],
      "execution_count": null,
      "outputs": [
        {
          "output_type": "execute_result",
          "data": {
            "text/html": [
              "<div>\n",
              "<style scoped>\n",
              "    .dataframe tbody tr th:only-of-type {\n",
              "        vertical-align: middle;\n",
              "    }\n",
              "\n",
              "    .dataframe tbody tr th {\n",
              "        vertical-align: top;\n",
              "    }\n",
              "\n",
              "    .dataframe thead th {\n",
              "        text-align: right;\n",
              "    }\n",
              "</style>\n",
              "<table border=\"1\" class=\"dataframe\">\n",
              "  <thead>\n",
              "    <tr style=\"text-align: right;\">\n",
              "      <th></th>\n",
              "      <th>Employment</th>\n",
              "      <th>Degree</th>\n",
              "      <th>Status</th>\n",
              "      <th>Designation</th>\n",
              "      <th>family_job</th>\n",
              "      <th>Race</th>\n",
              "      <th>Sex</th>\n",
              "      <th>Country</th>\n",
              "    </tr>\n",
              "  </thead>\n",
              "  <tbody>\n",
              "    <tr>\n",
              "      <th>0</th>\n",
              "      <td>State-gov</td>\n",
              "      <td>Bachelors</td>\n",
              "      <td>Never-married</td>\n",
              "      <td>Adm-clerical</td>\n",
              "      <td>Not-in-family</td>\n",
              "      <td>White</td>\n",
              "      <td>Male</td>\n",
              "      <td>29170</td>\n",
              "    </tr>\n",
              "    <tr>\n",
              "      <th>1</th>\n",
              "      <td>Self-emp-not-inc</td>\n",
              "      <td>Bachelors</td>\n",
              "      <td>Married-civ-spouse</td>\n",
              "      <td>Exec-managerial</td>\n",
              "      <td>Husband</td>\n",
              "      <td>White</td>\n",
              "      <td>Male</td>\n",
              "      <td>29170</td>\n",
              "    </tr>\n",
              "    <tr>\n",
              "      <th>2</th>\n",
              "      <td>Private</td>\n",
              "      <td>HS-grad</td>\n",
              "      <td>Divorced</td>\n",
              "      <td>Handlers-cleaners</td>\n",
              "      <td>Not-in-family</td>\n",
              "      <td>White</td>\n",
              "      <td>Male</td>\n",
              "      <td>29170</td>\n",
              "    </tr>\n",
              "    <tr>\n",
              "      <th>3</th>\n",
              "      <td>Private</td>\n",
              "      <td>11th</td>\n",
              "      <td>Married-civ-spouse</td>\n",
              "      <td>Handlers-cleaners</td>\n",
              "      <td>Husband</td>\n",
              "      <td>Black</td>\n",
              "      <td>Male</td>\n",
              "      <td>29170</td>\n",
              "    </tr>\n",
              "    <tr>\n",
              "      <th>4</th>\n",
              "      <td>Private</td>\n",
              "      <td>Bachelors</td>\n",
              "      <td>Married-civ-spouse</td>\n",
              "      <td>Prof-specialty</td>\n",
              "      <td>Wife</td>\n",
              "      <td>Black</td>\n",
              "      <td>Female</td>\n",
              "      <td>95</td>\n",
              "    </tr>\n",
              "    <tr>\n",
              "      <th>5</th>\n",
              "      <td>Private</td>\n",
              "      <td>Masters</td>\n",
              "      <td>Married-civ-spouse</td>\n",
              "      <td>Exec-managerial</td>\n",
              "      <td>Wife</td>\n",
              "      <td>White</td>\n",
              "      <td>Female</td>\n",
              "      <td>29170</td>\n",
              "    </tr>\n",
              "    <tr>\n",
              "      <th>6</th>\n",
              "      <td>Private</td>\n",
              "      <td>9th</td>\n",
              "      <td>Married-spouse-absent</td>\n",
              "      <td>Other-service</td>\n",
              "      <td>Not-in-family</td>\n",
              "      <td>Black</td>\n",
              "      <td>Female</td>\n",
              "      <td>81</td>\n",
              "    </tr>\n",
              "    <tr>\n",
              "      <th>7</th>\n",
              "      <td>Self-emp-not-inc</td>\n",
              "      <td>HS-grad</td>\n",
              "      <td>Married-civ-spouse</td>\n",
              "      <td>Exec-managerial</td>\n",
              "      <td>Husband</td>\n",
              "      <td>White</td>\n",
              "      <td>Male</td>\n",
              "      <td>29170</td>\n",
              "    </tr>\n",
              "    <tr>\n",
              "      <th>8</th>\n",
              "      <td>Private</td>\n",
              "      <td>Masters</td>\n",
              "      <td>Never-married</td>\n",
              "      <td>Prof-specialty</td>\n",
              "      <td>Not-in-family</td>\n",
              "      <td>White</td>\n",
              "      <td>Female</td>\n",
              "      <td>29170</td>\n",
              "    </tr>\n",
              "    <tr>\n",
              "      <th>9</th>\n",
              "      <td>Private</td>\n",
              "      <td>Bachelors</td>\n",
              "      <td>Married-civ-spouse</td>\n",
              "      <td>Exec-managerial</td>\n",
              "      <td>Husband</td>\n",
              "      <td>White</td>\n",
              "      <td>Male</td>\n",
              "      <td>29170</td>\n",
              "    </tr>\n",
              "    <tr>\n",
              "      <th>10</th>\n",
              "      <td>Private</td>\n",
              "      <td>Some-college</td>\n",
              "      <td>Married-civ-spouse</td>\n",
              "      <td>Exec-managerial</td>\n",
              "      <td>Husband</td>\n",
              "      <td>Black</td>\n",
              "      <td>Male</td>\n",
              "      <td>29170</td>\n",
              "    </tr>\n",
              "    <tr>\n",
              "      <th>11</th>\n",
              "      <td>State-gov</td>\n",
              "      <td>Bachelors</td>\n",
              "      <td>Married-civ-spouse</td>\n",
              "      <td>Prof-specialty</td>\n",
              "      <td>Husband</td>\n",
              "      <td>Asian-Pac-Islander</td>\n",
              "      <td>Male</td>\n",
              "      <td>100</td>\n",
              "    </tr>\n",
              "    <tr>\n",
              "      <th>12</th>\n",
              "      <td>Private</td>\n",
              "      <td>Bachelors</td>\n",
              "      <td>Never-married</td>\n",
              "      <td>Adm-clerical</td>\n",
              "      <td>Own-child</td>\n",
              "      <td>White</td>\n",
              "      <td>Female</td>\n",
              "      <td>29170</td>\n",
              "    </tr>\n",
              "    <tr>\n",
              "      <th>13</th>\n",
              "      <td>Private</td>\n",
              "      <td>Assoc-acdm</td>\n",
              "      <td>Never-married</td>\n",
              "      <td>Sales</td>\n",
              "      <td>Not-in-family</td>\n",
              "      <td>Black</td>\n",
              "      <td>Male</td>\n",
              "      <td>29170</td>\n",
              "    </tr>\n",
              "    <tr>\n",
              "      <th>14</th>\n",
              "      <td>Private</td>\n",
              "      <td>Assoc-voc</td>\n",
              "      <td>Married-civ-spouse</td>\n",
              "      <td>Craft-repair</td>\n",
              "      <td>Husband</td>\n",
              "      <td>Asian-Pac-Islander</td>\n",
              "      <td>Male</td>\n",
              "      <td>583</td>\n",
              "    </tr>\n",
              "    <tr>\n",
              "      <th>15</th>\n",
              "      <td>Private</td>\n",
              "      <td>7th-8th</td>\n",
              "      <td>Married-civ-spouse</td>\n",
              "      <td>Transport-moving</td>\n",
              "      <td>Husband</td>\n",
              "      <td>Amer-Indian-Eskimo</td>\n",
              "      <td>Male</td>\n",
              "      <td>643</td>\n",
              "    </tr>\n",
              "    <tr>\n",
              "      <th>16</th>\n",
              "      <td>Self-emp-not-inc</td>\n",
              "      <td>HS-grad</td>\n",
              "      <td>Never-married</td>\n",
              "      <td>Farming-fishing</td>\n",
              "      <td>Own-child</td>\n",
              "      <td>White</td>\n",
              "      <td>Male</td>\n",
              "      <td>29170</td>\n",
              "    </tr>\n",
              "    <tr>\n",
              "      <th>17</th>\n",
              "      <td>Private</td>\n",
              "      <td>HS-grad</td>\n",
              "      <td>Never-married</td>\n",
              "      <td>Machine-op-inspct</td>\n",
              "      <td>Unmarried</td>\n",
              "      <td>White</td>\n",
              "      <td>Male</td>\n",
              "      <td>29170</td>\n",
              "    </tr>\n",
              "    <tr>\n",
              "      <th>18</th>\n",
              "      <td>Private</td>\n",
              "      <td>11th</td>\n",
              "      <td>Married-civ-spouse</td>\n",
              "      <td>Sales</td>\n",
              "      <td>Husband</td>\n",
              "      <td>White</td>\n",
              "      <td>Male</td>\n",
              "      <td>29170</td>\n",
              "    </tr>\n",
              "    <tr>\n",
              "      <th>19</th>\n",
              "      <td>Self-emp-not-inc</td>\n",
              "      <td>Masters</td>\n",
              "      <td>Divorced</td>\n",
              "      <td>Exec-managerial</td>\n",
              "      <td>Unmarried</td>\n",
              "      <td>White</td>\n",
              "      <td>Female</td>\n",
              "      <td>29170</td>\n",
              "    </tr>\n",
              "  </tbody>\n",
              "</table>\n",
              "</div>"
            ],
            "text/plain": [
              "           Employment         Degree                  Status  \\\n",
              "0           State-gov      Bachelors           Never-married   \n",
              "1    Self-emp-not-inc      Bachelors      Married-civ-spouse   \n",
              "2             Private        HS-grad                Divorced   \n",
              "3             Private           11th      Married-civ-spouse   \n",
              "4             Private      Bachelors      Married-civ-spouse   \n",
              "5             Private        Masters      Married-civ-spouse   \n",
              "6             Private            9th   Married-spouse-absent   \n",
              "7    Self-emp-not-inc        HS-grad      Married-civ-spouse   \n",
              "8             Private        Masters           Never-married   \n",
              "9             Private      Bachelors      Married-civ-spouse   \n",
              "10            Private   Some-college      Married-civ-spouse   \n",
              "11          State-gov      Bachelors      Married-civ-spouse   \n",
              "12            Private      Bachelors           Never-married   \n",
              "13            Private     Assoc-acdm           Never-married   \n",
              "14            Private      Assoc-voc      Married-civ-spouse   \n",
              "15            Private        7th-8th      Married-civ-spouse   \n",
              "16   Self-emp-not-inc        HS-grad           Never-married   \n",
              "17            Private        HS-grad           Never-married   \n",
              "18            Private           11th      Married-civ-spouse   \n",
              "19   Self-emp-not-inc        Masters                Divorced   \n",
              "\n",
              "           Designation      family_job                 Race      Sex  Country  \n",
              "0         Adm-clerical   Not-in-family                White     Male    29170  \n",
              "1      Exec-managerial         Husband                White     Male    29170  \n",
              "2    Handlers-cleaners   Not-in-family                White     Male    29170  \n",
              "3    Handlers-cleaners         Husband                Black     Male    29170  \n",
              "4       Prof-specialty            Wife                Black   Female       95  \n",
              "5      Exec-managerial            Wife                White   Female    29170  \n",
              "6        Other-service   Not-in-family                Black   Female       81  \n",
              "7      Exec-managerial         Husband                White     Male    29170  \n",
              "8       Prof-specialty   Not-in-family                White   Female    29170  \n",
              "9      Exec-managerial         Husband                White     Male    29170  \n",
              "10     Exec-managerial         Husband                Black     Male    29170  \n",
              "11      Prof-specialty         Husband   Asian-Pac-Islander     Male      100  \n",
              "12        Adm-clerical       Own-child                White   Female    29170  \n",
              "13               Sales   Not-in-family                Black     Male    29170  \n",
              "14        Craft-repair         Husband   Asian-Pac-Islander     Male      583  \n",
              "15    Transport-moving         Husband   Amer-Indian-Eskimo     Male      643  \n",
              "16     Farming-fishing       Own-child                White     Male    29170  \n",
              "17   Machine-op-inspct       Unmarried                White     Male    29170  \n",
              "18               Sales         Husband                White     Male    29170  \n",
              "19     Exec-managerial       Unmarried                White   Female    29170  "
            ]
          },
          "metadata": {
            "tags": []
          },
          "execution_count": 53
        }
      ]
    },
    {
      "cell_type": "markdown",
      "metadata": {
        "id": "ZzO-UnJc719k"
      },
      "source": [
        "##### Advantages\n",
        "1. Easy To Use\n",
        "2. Not increasing feature space\n",
        "##### Disadvantages\n",
        "1. It will provide same weight if the frequencies are same"
      ]
    },
    {
      "cell_type": "markdown",
      "metadata": {
        "id": "nRpRaZT8719l"
      },
      "source": [
        "#### Target Guided Ordinal Encoding\n",
        "1. Ordering the labels according to the target\n",
        "2. Replace the labels by the joint probability of being 1 or 0"
      ]
    },
    {
      "cell_type": "code",
      "metadata": {
        "id": "OGo9ZgOu719l",
        "outputId": "4b68603b-823d-443a-b18b-47bdb88ef40c"
      },
      "source": [
        "import pandas as pd\n",
        "df=pd.read_csv('titanic.csv', usecols=['Cabin','Survived'])\n",
        "df.head()"
      ],
      "execution_count": null,
      "outputs": [
        {
          "output_type": "execute_result",
          "data": {
            "text/html": [
              "<div>\n",
              "<style scoped>\n",
              "    .dataframe tbody tr th:only-of-type {\n",
              "        vertical-align: middle;\n",
              "    }\n",
              "\n",
              "    .dataframe tbody tr th {\n",
              "        vertical-align: top;\n",
              "    }\n",
              "\n",
              "    .dataframe thead th {\n",
              "        text-align: right;\n",
              "    }\n",
              "</style>\n",
              "<table border=\"1\" class=\"dataframe\">\n",
              "  <thead>\n",
              "    <tr style=\"text-align: right;\">\n",
              "      <th></th>\n",
              "      <th>Survived</th>\n",
              "      <th>Cabin</th>\n",
              "    </tr>\n",
              "  </thead>\n",
              "  <tbody>\n",
              "    <tr>\n",
              "      <th>0</th>\n",
              "      <td>0</td>\n",
              "      <td>NaN</td>\n",
              "    </tr>\n",
              "    <tr>\n",
              "      <th>1</th>\n",
              "      <td>1</td>\n",
              "      <td>C85</td>\n",
              "    </tr>\n",
              "    <tr>\n",
              "      <th>2</th>\n",
              "      <td>1</td>\n",
              "      <td>NaN</td>\n",
              "    </tr>\n",
              "    <tr>\n",
              "      <th>3</th>\n",
              "      <td>1</td>\n",
              "      <td>C123</td>\n",
              "    </tr>\n",
              "    <tr>\n",
              "      <th>4</th>\n",
              "      <td>0</td>\n",
              "      <td>NaN</td>\n",
              "    </tr>\n",
              "  </tbody>\n",
              "</table>\n",
              "</div>"
            ],
            "text/plain": [
              "   Survived Cabin\n",
              "0         0   NaN\n",
              "1         1   C85\n",
              "2         1   NaN\n",
              "3         1  C123\n",
              "4         0   NaN"
            ]
          },
          "metadata": {
            "tags": []
          },
          "execution_count": 55
        }
      ]
    },
    {
      "cell_type": "code",
      "metadata": {
        "id": "E4FTIRhU719m"
      },
      "source": [
        "df['Cabin'].fillna('Missing',inplace=True)"
      ],
      "execution_count": null,
      "outputs": []
    },
    {
      "cell_type": "code",
      "metadata": {
        "id": "ArNf6L1t719m"
      },
      "source": [
        "df['Cabin']=df['Cabin'].astype(str).str[0]"
      ],
      "execution_count": null,
      "outputs": []
    },
    {
      "cell_type": "code",
      "metadata": {
        "id": "77qyiSvk719n",
        "outputId": "9eca9dd9-97f4-4be0-9a89-b81758a64fb5"
      },
      "source": [
        "df.head()"
      ],
      "execution_count": null,
      "outputs": [
        {
          "output_type": "execute_result",
          "data": {
            "text/html": [
              "<div>\n",
              "<style scoped>\n",
              "    .dataframe tbody tr th:only-of-type {\n",
              "        vertical-align: middle;\n",
              "    }\n",
              "\n",
              "    .dataframe tbody tr th {\n",
              "        vertical-align: top;\n",
              "    }\n",
              "\n",
              "    .dataframe thead th {\n",
              "        text-align: right;\n",
              "    }\n",
              "</style>\n",
              "<table border=\"1\" class=\"dataframe\">\n",
              "  <thead>\n",
              "    <tr style=\"text-align: right;\">\n",
              "      <th></th>\n",
              "      <th>Survived</th>\n",
              "      <th>Cabin</th>\n",
              "    </tr>\n",
              "  </thead>\n",
              "  <tbody>\n",
              "    <tr>\n",
              "      <th>0</th>\n",
              "      <td>0</td>\n",
              "      <td>M</td>\n",
              "    </tr>\n",
              "    <tr>\n",
              "      <th>1</th>\n",
              "      <td>1</td>\n",
              "      <td>C</td>\n",
              "    </tr>\n",
              "    <tr>\n",
              "      <th>2</th>\n",
              "      <td>1</td>\n",
              "      <td>M</td>\n",
              "    </tr>\n",
              "    <tr>\n",
              "      <th>3</th>\n",
              "      <td>1</td>\n",
              "      <td>C</td>\n",
              "    </tr>\n",
              "    <tr>\n",
              "      <th>4</th>\n",
              "      <td>0</td>\n",
              "      <td>M</td>\n",
              "    </tr>\n",
              "  </tbody>\n",
              "</table>\n",
              "</div>"
            ],
            "text/plain": [
              "   Survived Cabin\n",
              "0         0     M\n",
              "1         1     C\n",
              "2         1     M\n",
              "3         1     C\n",
              "4         0     M"
            ]
          },
          "metadata": {
            "tags": []
          },
          "execution_count": 62
        }
      ]
    },
    {
      "cell_type": "code",
      "metadata": {
        "id": "xX4a6oOg719o",
        "outputId": "85d55ac5-0127-4a2f-f4ef-7376d746b25a"
      },
      "source": [
        "df.Cabin.unique()"
      ],
      "execution_count": null,
      "outputs": [
        {
          "output_type": "execute_result",
          "data": {
            "text/plain": [
              "array(['M', 'C', 'E', 'G', 'D', 'A', 'B', 'F', 'T'], dtype=object)"
            ]
          },
          "metadata": {
            "tags": []
          },
          "execution_count": 63
        }
      ]
    },
    {
      "cell_type": "code",
      "metadata": {
        "id": "xlIGhGNs719o",
        "outputId": "1630650f-a5bb-4092-9818-2262f83ab229"
      },
      "source": [
        "df.groupby(['Cabin'])['Survived'].mean()"
      ],
      "execution_count": null,
      "outputs": [
        {
          "output_type": "execute_result",
          "data": {
            "text/plain": [
              "Cabin\n",
              "A    0.466667\n",
              "B    0.744681\n",
              "C    0.593220\n",
              "D    0.757576\n",
              "E    0.750000\n",
              "F    0.615385\n",
              "G    0.500000\n",
              "M    0.299854\n",
              "T    0.000000\n",
              "Name: Survived, dtype: float64"
            ]
          },
          "metadata": {
            "tags": []
          },
          "execution_count": 64
        }
      ]
    },
    {
      "cell_type": "code",
      "metadata": {
        "id": "6b5g6AG_719o",
        "outputId": "c368c19f-a1dd-49cb-8d1d-e118f1b4582c"
      },
      "source": [
        "df.groupby(['Cabin'])['Survived'].mean().sort_values().index"
      ],
      "execution_count": null,
      "outputs": [
        {
          "output_type": "execute_result",
          "data": {
            "text/plain": [
              "Index(['T', 'M', 'A', 'G', 'C', 'F', 'B', 'E', 'D'], dtype='object', name='Cabin')"
            ]
          },
          "metadata": {
            "tags": []
          },
          "execution_count": 68
        }
      ]
    },
    {
      "cell_type": "code",
      "metadata": {
        "id": "FIxaYAv7719p",
        "outputId": "320c1e6b-5320-4dd3-ad6b-b2d112b244a4"
      },
      "source": [
        "ordinal_labels=df.groupby(['Cabin'])['Survived'].mean().sort_values().index\n",
        "ordinal_labels"
      ],
      "execution_count": null,
      "outputs": [
        {
          "output_type": "execute_result",
          "data": {
            "text/plain": [
              "Index(['T', 'M', 'A', 'G', 'C', 'F', 'B', 'E', 'D'], dtype='object', name='Cabin')"
            ]
          },
          "metadata": {
            "tags": []
          },
          "execution_count": 69
        }
      ]
    },
    {
      "cell_type": "code",
      "metadata": {
        "id": "kpTzPWme719p",
        "outputId": "6373c00b-ac44-4976-8cf5-55f5933f102e"
      },
      "source": [
        "enumerate(ordinal_labels,0)"
      ],
      "execution_count": null,
      "outputs": [
        {
          "output_type": "execute_result",
          "data": {
            "text/plain": [
              "<enumerate at 0x24e376166c0>"
            ]
          },
          "metadata": {
            "tags": []
          },
          "execution_count": 70
        }
      ]
    },
    {
      "cell_type": "code",
      "metadata": {
        "id": "qnWTuo4M719q",
        "outputId": "7dd6a3b3-8e7b-4075-931e-394a7982d840"
      },
      "source": [
        "ordinal_labels2={k:i for i,k in enumerate(ordinal_labels,0)}\n",
        "ordinal_labels2"
      ],
      "execution_count": null,
      "outputs": [
        {
          "output_type": "execute_result",
          "data": {
            "text/plain": [
              "{'T': 0, 'M': 1, 'A': 2, 'G': 3, 'C': 4, 'F': 5, 'B': 6, 'E': 7, 'D': 8}"
            ]
          },
          "metadata": {
            "tags": []
          },
          "execution_count": 71
        }
      ]
    },
    {
      "cell_type": "code",
      "metadata": {
        "id": "VBedOD9n719q",
        "outputId": "9cdb0d32-a188-4d7d-b8bd-17e92234a571"
      },
      "source": [
        "df['Cabin_ordinal_labels']=df['Cabin'].map(ordinal_labels2)\n",
        "df.head()"
      ],
      "execution_count": null,
      "outputs": [
        {
          "output_type": "execute_result",
          "data": {
            "text/html": [
              "<div>\n",
              "<style scoped>\n",
              "    .dataframe tbody tr th:only-of-type {\n",
              "        vertical-align: middle;\n",
              "    }\n",
              "\n",
              "    .dataframe tbody tr th {\n",
              "        vertical-align: top;\n",
              "    }\n",
              "\n",
              "    .dataframe thead th {\n",
              "        text-align: right;\n",
              "    }\n",
              "</style>\n",
              "<table border=\"1\" class=\"dataframe\">\n",
              "  <thead>\n",
              "    <tr style=\"text-align: right;\">\n",
              "      <th></th>\n",
              "      <th>Survived</th>\n",
              "      <th>Cabin</th>\n",
              "      <th>Cabin_ordinal_labels</th>\n",
              "    </tr>\n",
              "  </thead>\n",
              "  <tbody>\n",
              "    <tr>\n",
              "      <th>0</th>\n",
              "      <td>0</td>\n",
              "      <td>M</td>\n",
              "      <td>1</td>\n",
              "    </tr>\n",
              "    <tr>\n",
              "      <th>1</th>\n",
              "      <td>1</td>\n",
              "      <td>C</td>\n",
              "      <td>4</td>\n",
              "    </tr>\n",
              "    <tr>\n",
              "      <th>2</th>\n",
              "      <td>1</td>\n",
              "      <td>M</td>\n",
              "      <td>1</td>\n",
              "    </tr>\n",
              "    <tr>\n",
              "      <th>3</th>\n",
              "      <td>1</td>\n",
              "      <td>C</td>\n",
              "      <td>4</td>\n",
              "    </tr>\n",
              "    <tr>\n",
              "      <th>4</th>\n",
              "      <td>0</td>\n",
              "      <td>M</td>\n",
              "      <td>1</td>\n",
              "    </tr>\n",
              "  </tbody>\n",
              "</table>\n",
              "</div>"
            ],
            "text/plain": [
              "   Survived Cabin  Cabin_ordinal_labels\n",
              "0         0     M                     1\n",
              "1         1     C                     4\n",
              "2         1     M                     1\n",
              "3         1     C                     4\n",
              "4         0     M                     1"
            ]
          },
          "metadata": {
            "tags": []
          },
          "execution_count": 72
        }
      ]
    },
    {
      "cell_type": "markdown",
      "metadata": {
        "id": "7y8RVIdm719q"
      },
      "source": [
        "#### Mean Encoding"
      ]
    },
    {
      "cell_type": "code",
      "metadata": {
        "id": "CRGh8Q95719r"
      },
      "source": [
        "mean_ordinal=df.groupby(['Cabin'])['Survived'].mean().to_dict()"
      ],
      "execution_count": null,
      "outputs": []
    },
    {
      "cell_type": "code",
      "metadata": {
        "id": "YfLQ-nLy719r",
        "outputId": "999fa36d-fcaf-4b8d-9fc0-6d739c232fc2"
      },
      "source": [
        "mean_ordinal"
      ],
      "execution_count": null,
      "outputs": [
        {
          "output_type": "execute_result",
          "data": {
            "text/plain": [
              "{'A': 0.4666666666666667,\n",
              " 'B': 0.7446808510638298,\n",
              " 'C': 0.5932203389830508,\n",
              " 'D': 0.7575757575757576,\n",
              " 'E': 0.75,\n",
              " 'F': 0.6153846153846154,\n",
              " 'G': 0.5,\n",
              " 'M': 0.29985443959243085,\n",
              " 'T': 0.0}"
            ]
          },
          "metadata": {
            "tags": []
          },
          "execution_count": 76
        }
      ]
    },
    {
      "cell_type": "code",
      "metadata": {
        "id": "SxO49aF3719r",
        "outputId": "089a14cf-0d78-4da5-b18b-2357c6569cb9"
      },
      "source": [
        "df['mean_ordinal_encode']=df['Cabin'].map(mean_ordinal)\n",
        "df.head()"
      ],
      "execution_count": null,
      "outputs": [
        {
          "output_type": "execute_result",
          "data": {
            "text/html": [
              "<div>\n",
              "<style scoped>\n",
              "    .dataframe tbody tr th:only-of-type {\n",
              "        vertical-align: middle;\n",
              "    }\n",
              "\n",
              "    .dataframe tbody tr th {\n",
              "        vertical-align: top;\n",
              "    }\n",
              "\n",
              "    .dataframe thead th {\n",
              "        text-align: right;\n",
              "    }\n",
              "</style>\n",
              "<table border=\"1\" class=\"dataframe\">\n",
              "  <thead>\n",
              "    <tr style=\"text-align: right;\">\n",
              "      <th></th>\n",
              "      <th>Survived</th>\n",
              "      <th>Cabin</th>\n",
              "      <th>Cabin_ordinal_labels</th>\n",
              "      <th>mean_ordinal_encode</th>\n",
              "    </tr>\n",
              "  </thead>\n",
              "  <tbody>\n",
              "    <tr>\n",
              "      <th>0</th>\n",
              "      <td>0</td>\n",
              "      <td>M</td>\n",
              "      <td>1</td>\n",
              "      <td>0.299854</td>\n",
              "    </tr>\n",
              "    <tr>\n",
              "      <th>1</th>\n",
              "      <td>1</td>\n",
              "      <td>C</td>\n",
              "      <td>4</td>\n",
              "      <td>0.593220</td>\n",
              "    </tr>\n",
              "    <tr>\n",
              "      <th>2</th>\n",
              "      <td>1</td>\n",
              "      <td>M</td>\n",
              "      <td>1</td>\n",
              "      <td>0.299854</td>\n",
              "    </tr>\n",
              "    <tr>\n",
              "      <th>3</th>\n",
              "      <td>1</td>\n",
              "      <td>C</td>\n",
              "      <td>4</td>\n",
              "      <td>0.593220</td>\n",
              "    </tr>\n",
              "    <tr>\n",
              "      <th>4</th>\n",
              "      <td>0</td>\n",
              "      <td>M</td>\n",
              "      <td>1</td>\n",
              "      <td>0.299854</td>\n",
              "    </tr>\n",
              "  </tbody>\n",
              "</table>\n",
              "</div>"
            ],
            "text/plain": [
              "   Survived Cabin  Cabin_ordinal_labels  mean_ordinal_encode\n",
              "0         0     M                     1             0.299854\n",
              "1         1     C                     4             0.593220\n",
              "2         1     M                     1             0.299854\n",
              "3         1     C                     4             0.593220\n",
              "4         0     M                     1             0.299854"
            ]
          },
          "metadata": {
            "tags": []
          },
          "execution_count": 77
        }
      ]
    },
    {
      "cell_type": "code",
      "metadata": {
        "id": "-P2xu5uS719s"
      },
      "source": [
        ""
      ],
      "execution_count": null,
      "outputs": []
    }
  ]
}